{
 "cells": [
  {
   "cell_type": "markdown",
   "id": "4c4a86e9-1ffe-4e85-9c46-04455707311a",
   "metadata": {},
   "source": [
    "### 1. Load & Prepare Data Set"
   ]
  },
  {
   "cell_type": "code",
   "execution_count": 1,
   "id": "51876608-fd9f-4d0c-8d5f-97ffb91bc27a",
   "metadata": {},
   "outputs": [],
   "source": [
    "%load_ext autoreload\n",
    "%autoreload 2\n",
    "\n",
    "from chartbot_config import *"
   ]
  },
  {
   "cell_type": "code",
   "execution_count": 2,
   "id": "2d5abae0-d153-42de-8f83-c941654d2e87",
   "metadata": {},
   "outputs": [
    {
     "name": "stderr",
     "output_type": "stream",
     "text": [
      "D:\\Anaconda3\\envs\\GPU\\lib\\site-packages\\tqdm\\auto.py:22: TqdmWarning: IProgress not found. Please update jupyter and ipywidgets. See https://ipywidgets.readthedocs.io/en/stable/user_install.html\n",
      "  from .autonotebook import tqdm as notebook_tqdm\n"
     ]
    },
    {
     "data": {
      "text/plain": [
       "DatasetDict({\n",
       "    train: Dataset({\n",
       "        features: ['index', 'Domain', 'Sub domain', 'Intent', 'Answer Format', 'value', 'labels'],\n",
       "        num_rows: 9766\n",
       "    })\n",
       "    validation: Dataset({\n",
       "        features: ['index', 'Domain', 'Sub domain', 'Intent', 'Answer Format', 'value', 'labels'],\n",
       "        num_rows: 3256\n",
       "    })\n",
       "    test: Dataset({\n",
       "        features: ['index', 'Domain', 'Sub domain', 'Intent', 'Answer Format', 'value', 'labels'],\n",
       "        num_rows: 3256\n",
       "    })\n",
       "})"
      ]
     },
     "execution_count": 2,
     "metadata": {},
     "output_type": "execute_result"
    }
   ],
   "source": [
    "from datasets import load_from_disk\n",
    "\n",
    "df = load_from_disk(processed_data_path)\n",
    "df"
   ]
  },
  {
   "cell_type": "code",
   "execution_count": 3,
   "id": "b75cd9bd-f4d7-4feb-a94b-7daa533ae539",
   "metadata": {},
   "outputs": [
    {
     "name": "stderr",
     "output_type": "stream",
     "text": [
      "100%|██████████| 4/4 [00:00<00:00, 29.67ba/s]\n"
     ]
    },
    {
     "name": "stdout",
     "output_type": "stream",
     "text": [
      "======================================\n",
      "Trainset: <PrefetchDataset shapes: ({input_ids: (None, None), token_type_ids: (None, None), attention_mask: (None, None)}, (None, None)), types: ({input_ids: tf.int64, token_type_ids: tf.int64, attention_mask: tf.int64}, tf.int64)>\n"
     ]
    }
   ],
   "source": [
    "from transformers import AutoTokenizer, DataCollatorWithPadding\n",
    "\n",
    "checkpoint = checkpoint\n",
    "\n",
    "tokenizer = AutoTokenizer.from_pretrained(checkpoint)\n",
    "\n",
    "def tokenize_function(examples):\n",
    "    return tokenizer(examples[\"value\"], truncation=True)\n",
    "\n",
    "tokenized_dataset = df[\"test\"].map(tokenize_function, batched=True)\n",
    "\n",
    "data_collator = DataCollatorWithPadding(tokenizer = tokenizer, return_tensors = \"tf\")\n",
    "\n",
    "tf_test_dataset = tokenized_dataset.to_tf_dataset(\n",
    "    columns = [\"attention_mask\", \"input_ids\", \"token_type_ids\"],\n",
    "    label_cols = [\"labels\"],\n",
    "    shuffle = False,\n",
    "    collate_fn = data_collator,\n",
    "    batch_size = 1,\n",
    ")\n",
    "print(\"======================================\")\n",
    "print(\"Trainset:\", tf_test_dataset)"
   ]
  },
  {
   "cell_type": "markdown",
   "id": "7dc08c88-90ff-42e9-859c-99f13acc3f5a",
   "metadata": {},
   "source": [
    "### 2. Load & Prepare Model"
   ]
  },
  {
   "cell_type": "code",
   "execution_count": 4,
   "id": "efa654ba-2a74-45bb-ba02-93c1a285f0f2",
   "metadata": {},
   "outputs": [
    {
     "name": "stderr",
     "output_type": "stream",
     "text": [
      "All model checkpoint layers were used when initializing TFBertForSequenceClassification.\n",
      "\n",
      "Some layers of TFBertForSequenceClassification were not initialized from the model checkpoint at bert-base-uncased and are newly initialized: ['classifier']\n",
      "You should probably TRAIN this model on a down-stream task to be able to use it for predictions and inference.\n"
     ]
    },
    {
     "name": "stdout",
     "output_type": "stream",
     "text": [
      "Model: \"tf_bert_for_sequence_classification\"\n",
      "_________________________________________________________________\n",
      "Layer (type)                 Output Shape              Param #   \n",
      "=================================================================\n",
      "bert (TFBertMainLayer)       multiple                  109482240 \n",
      "_________________________________________________________________\n",
      "dropout_37 (Dropout)         multiple                  0         \n",
      "_________________________________________________________________\n",
      "classifier (Dense)           multiple                  56906     \n",
      "=================================================================\n",
      "Total params: 109,539,146\n",
      "Trainable params: 109,539,146\n",
      "Non-trainable params: 0\n",
      "_________________________________________________________________\n"
     ]
    }
   ],
   "source": [
    "from transformers import TFAutoModelForSequenceClassification\n",
    "from tensorflow.keras.losses import BinaryCrossentropy\n",
    "from tensorflow.keras.optimizers import Adam\n",
    "\n",
    "num_labels = len(df[\"train\"][\"labels\"][0])\n",
    "model = TFAutoModelForSequenceClassification.from_pretrained(checkpoint, num_labels=num_labels, problem_type=\"multi_label_classification\")\n",
    "model.load_weights(model_path)\n",
    "\n",
    "opt = Adam()\n",
    "loss = BinaryCrossentropy(from_logits=True)\n",
    "\n",
    "model.compile(\n",
    "    optimizer = opt,\n",
    "    loss = loss,\n",
    "    metrics=[\"accuracy\"],\n",
    ")\n",
    "\n",
    "model.summary()"
   ]
  },
  {
   "cell_type": "markdown",
   "id": "6641b07e-380c-40fb-9e43-fbe7fdefa262",
   "metadata": {},
   "source": [
    "### 3. Model Inference"
   ]
  },
  {
   "cell_type": "code",
   "execution_count": 5,
   "id": "71761c43-f5d3-4273-8ce8-9e113db9f063",
   "metadata": {},
   "outputs": [],
   "source": [
    "import numpy as np\n",
    "\n",
    "preds = model.predict(tf_test_dataset)[\"logits\"]\n",
    "class_preds = [np.argmax(i) if np.sum(i) == 1 else len(i) for i in preds > 0]"
   ]
  },
  {
   "cell_type": "code",
   "execution_count": 6,
   "id": "045b4da1-37a2-474d-a101-c5a5667b7e35",
   "metadata": {},
   "outputs": [
    {
     "name": "stdout",
     "output_type": "stream",
     "text": [
      "The accuracy of test set: 0.980958230958231\n"
     ]
    },
    {
     "data": {
      "text/html": [
       "<div>\n",
       "<style scoped>\n",
       "    .dataframe tbody tr th:only-of-type {\n",
       "        vertical-align: middle;\n",
       "    }\n",
       "\n",
       "    .dataframe tbody tr th {\n",
       "        vertical-align: top;\n",
       "    }\n",
       "\n",
       "    .dataframe thead th {\n",
       "        text-align: right;\n",
       "    }\n",
       "</style>\n",
       "<table border=\"1\" class=\"dataframe\">\n",
       "  <thead>\n",
       "    <tr style=\"text-align: right;\">\n",
       "      <th></th>\n",
       "      <th>Domain</th>\n",
       "      <th>Sub domain</th>\n",
       "      <th>Intent</th>\n",
       "      <th>Answer Format</th>\n",
       "      <th>value</th>\n",
       "      <th>0</th>\n",
       "      <th>1</th>\n",
       "      <th>2</th>\n",
       "      <th>3</th>\n",
       "      <th>4</th>\n",
       "      <th>...</th>\n",
       "      <th>65</th>\n",
       "      <th>66</th>\n",
       "      <th>67</th>\n",
       "      <th>68</th>\n",
       "      <th>69</th>\n",
       "      <th>70</th>\n",
       "      <th>71</th>\n",
       "      <th>72</th>\n",
       "      <th>73</th>\n",
       "      <th>y_hat</th>\n",
       "    </tr>\n",
       "  </thead>\n",
       "  <tbody>\n",
       "    <tr>\n",
       "      <th>3041</th>\n",
       "      <td>About Business Component</td>\n",
       "      <td>Filling</td>\n",
       "      <td>Filling_sensitive_info</td>\n",
       "      <td>You can skip filling any field if you are not ...</td>\n",
       "      <td>Can I drop entering sensitive information?</td>\n",
       "      <td>-4.698543</td>\n",
       "      <td>-4.554119</td>\n",
       "      <td>-4.828384</td>\n",
       "      <td>-4.561625</td>\n",
       "      <td>-5.068871</td>\n",
       "      <td>...</td>\n",
       "      <td>-5.625214</td>\n",
       "      <td>-5.161419</td>\n",
       "      <td>-4.972987</td>\n",
       "      <td>-4.238535</td>\n",
       "      <td>-5.089555</td>\n",
       "      <td>-4.608479</td>\n",
       "      <td>-4.916294</td>\n",
       "      <td>-4.725637</td>\n",
       "      <td>-4.586147</td>\n",
       "      <td>54</td>\n",
       "    </tr>\n",
       "    <tr>\n",
       "      <th>209</th>\n",
       "      <td>About the team</td>\n",
       "      <td>Our Contact</td>\n",
       "      <td>Contact_method</td>\n",
       "      <td>You may contact us by email at xxxxxx@filleasy...</td>\n",
       "      <td>So, what is your email address?</td>\n",
       "      <td>-5.617332</td>\n",
       "      <td>-4.065939</td>\n",
       "      <td>-5.067706</td>\n",
       "      <td>-3.835828</td>\n",
       "      <td>-3.918454</td>\n",
       "      <td>...</td>\n",
       "      <td>-5.554646</td>\n",
       "      <td>-5.756432</td>\n",
       "      <td>-5.215990</td>\n",
       "      <td>-5.930146</td>\n",
       "      <td>-5.115957</td>\n",
       "      <td>-5.255075</td>\n",
       "      <td>-3.930214</td>\n",
       "      <td>-4.863859</td>\n",
       "      <td>-4.248910</td>\n",
       "      <td>19</td>\n",
       "    </tr>\n",
       "    <tr>\n",
       "      <th>1114</th>\n",
       "      <td>Others</td>\n",
       "      <td>About Conversation</td>\n",
       "      <td>Greeting</td>\n",
       "      <td>Hi there. Here is \"Matthew\", your personal ass...</td>\n",
       "      <td>The I</td>\n",
       "      <td>-5.024716</td>\n",
       "      <td>-4.531721</td>\n",
       "      <td>-4.849027</td>\n",
       "      <td>-5.359993</td>\n",
       "      <td>-5.041405</td>\n",
       "      <td>...</td>\n",
       "      <td>-4.019416</td>\n",
       "      <td>-5.326167</td>\n",
       "      <td>-4.740526</td>\n",
       "      <td>-5.196130</td>\n",
       "      <td>-5.686471</td>\n",
       "      <td>-4.490896</td>\n",
       "      <td>-5.141884</td>\n",
       "      <td>-4.935785</td>\n",
       "      <td>-3.793845</td>\n",
       "      <td>63</td>\n",
       "    </tr>\n",
       "    <tr>\n",
       "      <th>3021</th>\n",
       "      <td>About Business Component</td>\n",
       "      <td>Selection</td>\n",
       "      <td>Form_request_adding</td>\n",
       "      <td>If you have a physical form, we encourage you ...</td>\n",
       "      <td>Can we upload a form that we cannot find on yo...</td>\n",
       "      <td>-5.247623</td>\n",
       "      <td>-4.216721</td>\n",
       "      <td>-4.782459</td>\n",
       "      <td>-4.971338</td>\n",
       "      <td>-5.505620</td>\n",
       "      <td>...</td>\n",
       "      <td>-5.396286</td>\n",
       "      <td>-5.282259</td>\n",
       "      <td>-3.975134</td>\n",
       "      <td>-4.259389</td>\n",
       "      <td>-5.723114</td>\n",
       "      <td>-4.968718</td>\n",
       "      <td>-4.965480</td>\n",
       "      <td>-4.259097</td>\n",
       "      <td>-4.457862</td>\n",
       "      <td>43</td>\n",
       "    </tr>\n",
       "    <tr>\n",
       "      <th>841</th>\n",
       "      <td>About Business Component</td>\n",
       "      <td>Overall</td>\n",
       "      <td>Service_Summary</td>\n",
       "      <td>We provide a 1-stop straight through processin...</td>\n",
       "      <td>What Do you guys?</td>\n",
       "      <td>-5.404927</td>\n",
       "      <td>-4.085706</td>\n",
       "      <td>-5.167070</td>\n",
       "      <td>-4.812140</td>\n",
       "      <td>-4.498517</td>\n",
       "      <td>...</td>\n",
       "      <td>-5.309199</td>\n",
       "      <td>-6.224485</td>\n",
       "      <td>-5.801836</td>\n",
       "      <td>-6.399615</td>\n",
       "      <td>-5.607286</td>\n",
       "      <td>-5.618229</td>\n",
       "      <td>-3.706496</td>\n",
       "      <td>-5.616780</td>\n",
       "      <td>-4.146214</td>\n",
       "      <td>74</td>\n",
       "    </tr>\n",
       "  </tbody>\n",
       "</table>\n",
       "<p>5 rows × 80 columns</p>\n",
       "</div>"
      ],
      "text/plain": [
       "                        Domain          Sub domain                  Intent  \\\n",
       "3041  About Business Component            Filling   Filling_sensitive_info   \n",
       "209             About the team         Our Contact          Contact_method   \n",
       "1114                    Others  About Conversation                Greeting   \n",
       "3021  About Business Component           Selection     Form_request_adding   \n",
       "841   About Business Component             Overall         Service_Summary   \n",
       "\n",
       "                                          Answer Format  \\\n",
       "3041  You can skip filling any field if you are not ...   \n",
       "209   You may contact us by email at xxxxxx@filleasy...   \n",
       "1114  Hi there. Here is \"Matthew\", your personal ass...   \n",
       "3021  If you have a physical form, we encourage you ...   \n",
       "841   We provide a 1-stop straight through processin...   \n",
       "\n",
       "                                                  value         0         1  \\\n",
       "3041         Can I drop entering sensitive information? -4.698543 -4.554119   \n",
       "209                     So, what is your email address? -5.617332 -4.065939   \n",
       "1114                                              The I -5.024716 -4.531721   \n",
       "3021  Can we upload a form that we cannot find on yo... -5.247623 -4.216721   \n",
       "841                                   What Do you guys? -5.404927 -4.085706   \n",
       "\n",
       "             2         3         4  ...        65        66        67  \\\n",
       "3041 -4.828384 -4.561625 -5.068871  ... -5.625214 -5.161419 -4.972987   \n",
       "209  -5.067706 -3.835828 -3.918454  ... -5.554646 -5.756432 -5.215990   \n",
       "1114 -4.849027 -5.359993 -5.041405  ... -4.019416 -5.326167 -4.740526   \n",
       "3021 -4.782459 -4.971338 -5.505620  ... -5.396286 -5.282259 -3.975134   \n",
       "841  -5.167070 -4.812140 -4.498517  ... -5.309199 -6.224485 -5.801836   \n",
       "\n",
       "            68        69        70        71        72        73  y_hat  \n",
       "3041 -4.238535 -5.089555 -4.608479 -4.916294 -4.725637 -4.586147     54  \n",
       "209  -5.930146 -5.115957 -5.255075 -3.930214 -4.863859 -4.248910     19  \n",
       "1114 -5.196130 -5.686471 -4.490896 -5.141884 -4.935785 -3.793845     63  \n",
       "3021 -4.259389 -5.723114 -4.968718 -4.965480 -4.259097 -4.457862     43  \n",
       "841  -6.399615 -5.607286 -5.618229 -3.706496 -5.616780 -4.146214     74  \n",
       "\n",
       "[5 rows x 80 columns]"
      ]
     },
     "execution_count": 6,
     "metadata": {},
     "output_type": "execute_result"
    }
   ],
   "source": [
    "import pandas as pd\n",
    "\n",
    "class_true = np.argmax(tokenized_dataset[\"labels\"], axis=1) \n",
    "print(\"The accuracy of test set:\", (class_preds == class_true).mean())\n",
    "\n",
    "test_df = pd.DataFrame(tokenized_dataset[:]).loc[:, \"Domain\":\"value\"]\n",
    "test_df = pd.concat([test_df, pd.DataFrame(preds)], axis = 1)\n",
    "test_df[\"y_hat\"] = class_preds\n",
    "test_df.sample(5)"
   ]
  },
  {
   "cell_type": "code",
   "execution_count": 7,
   "id": "3106ee1c-1820-4634-a2ba-37953b47ae51",
   "metadata": {},
   "outputs": [],
   "source": [
    "test_df.to_csv(result_file_path, index=False)"
   ]
  },
  {
   "cell_type": "code",
   "execution_count": null,
   "id": "6a9e7333-7b00-4165-860b-ff31b15c6925",
   "metadata": {},
   "outputs": [],
   "source": []
  }
 ],
 "metadata": {
  "kernelspec": {
   "display_name": "Python 3 (ipykernel)",
   "language": "python",
   "name": "python3"
  },
  "language_info": {
   "codemirror_mode": {
    "name": "ipython",
    "version": 3
   },
   "file_extension": ".py",
   "mimetype": "text/x-python",
   "name": "python",
   "nbconvert_exporter": "python",
   "pygments_lexer": "ipython3",
   "version": "3.9.12"
  }
 },
 "nbformat": 4,
 "nbformat_minor": 5
}
