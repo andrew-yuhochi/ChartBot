{
 "cells": [
  {
   "cell_type": "markdown",
   "id": "9617abd6-d8e8-4fb8-965f-00188800e0dd",
   "metadata": {},
   "source": [
    "### Model Inference (Single data)"
   ]
  },
  {
   "cell_type": "code",
   "execution_count": 1,
   "id": "28dd0659-e4d1-4ba0-8f23-b41d06a9447a",
   "metadata": {},
   "outputs": [],
   "source": [
    "%load_ext autoreload\n",
    "%autoreload 2\n",
    "\n",
    "from chartbot_config import *"
   ]
  },
  {
   "cell_type": "code",
   "execution_count": 2,
   "id": "5ca4d601-5566-4ae3-bc52-0be41428ef5c",
   "metadata": {},
   "outputs": [],
   "source": [
    "num_labels = 74"
   ]
  },
  {
   "cell_type": "code",
   "execution_count": 3,
   "id": "5143a40f-c32e-405f-8fce-5235e0beb891",
   "metadata": {},
   "outputs": [
    {
     "name": "stderr",
     "output_type": "stream",
     "text": [
      "D:\\Anaconda3\\envs\\GPU\\lib\\site-packages\\tqdm\\auto.py:22: TqdmWarning: IProgress not found. Please update jupyter and ipywidgets. See https://ipywidgets.readthedocs.io/en/stable/user_install.html\n",
      "  from .autonotebook import tqdm as notebook_tqdm\n",
      "All model checkpoint layers were used when initializing TFBertForSequenceClassification.\n",
      "\n",
      "Some layers of TFBertForSequenceClassification were not initialized from the model checkpoint at bert-base-uncased and are newly initialized: ['classifier']\n",
      "You should probably TRAIN this model on a down-stream task to be able to use it for predictions and inference.\n"
     ]
    }
   ],
   "source": [
    "from transformers import AutoTokenizer\n",
    "import numpy as np\n",
    "\n",
    "checkpoint = checkpoint\n",
    "\n",
    "tokenizer = AutoTokenizer.from_pretrained(checkpoint)\n",
    "\n",
    "from transformers import TFAutoModelForSequenceClassification\n",
    "from tensorflow.keras.losses import BinaryCrossentropy\n",
    "from tensorflow.keras.optimizers import Adam\n",
    "\n",
    "num_labels = num_labels\n",
    "model = TFAutoModelForSequenceClassification.from_pretrained(checkpoint, num_labels=num_labels, problem_type=\"multi_label_classification\")\n",
    "model.load_weights(model_path)\n",
    "\n",
    "opt = Adam()\n",
    "loss = BinaryCrossentropy(from_logits=True)\n",
    "\n",
    "model.compile(\n",
    "    optimizer = opt,\n",
    "    loss = loss,\n",
    "    metrics=[\"accuracy\"],\n",
    ")\n"
   ]
  },
  {
   "cell_type": "code",
   "execution_count": 4,
   "id": "e540a450",
   "metadata": {},
   "outputs": [],
   "source": [
    "def query_a_sentence(sentence, Classes_dict):\n",
    "    \n",
    "    tokenized_dataset = tokenizer(sentence,  padding=True, truncation=True, return_tensors = \"tf\")\n",
    "    output = model(**tokenized_dataset)[\"logits\"]\n",
    "    class_preds = [np.argmax(i) if np.sum(i) == 1 else len(i) for i in output > 0][0]\n",
    "    print(\"Question: \", sentence)\n",
    "    print(\"Answer: \", Classes_dict.get(class_preds, \"Sorry I cannot understand.\"))\n",
    "    print(\"===============================================================================\")\n",
    "    \n",
    "def queries(sentences):\n",
    "    import pandas as pd\n",
    "    \n",
    "    df = pd.read_csv(raw_data_path, encoding = 'unicode_escape')\n",
    "    df = df.melt(id_vars=[\"Domain\", \"Sub domain\", \"Intent\", \"Answer Format\"]).drop(\"variable\", axis = 1)\n",
    "    Classes_dict_1 = dict(zip(list(df[\"Answer Format\"].unique()), [i for i in range(df[\"Intent\"].nunique())]))\n",
    "    Classes_dict = {value:key for key, value in Classes_dict_1.items()}\n",
    "    \n",
    "    for j in sentences:\n",
    "        query_a_sentence(j, Classes_dict)\n"
   ]
  },
  {
   "cell_type": "code",
   "execution_count": 7,
   "id": "04de4435",
   "metadata": {},
   "outputs": [],
   "source": [
    "dialog = [\"Hi. I am Andrew.\", \n",
    "          \"What service do you provide?\",\n",
    "          \"you said your company use AI techology, may I know more?\", \n",
    "          \"Why do you make use of AI?\", \n",
    "          \"What AI you have been used?\",\n",
    "          \"Is you the Chatbot?\",\n",
    "          \"How should I use your service?\",\n",
    "          \"What forms you have?\",\n",
    "          \"Can I fill forms for multiple companies at once?\",\n",
    "          \"I need a form from citi bank but I cannot find in your website!\",\n",
    "          \"Can I not filling in the income field?\",\n",
    "          \"Will you save my personal information?\", \n",
    "          \"So it means that I need to fill in the information again for the next times?\", \n",
    "          \"I have already fill in the forms, how should I sign it?\", \n",
    "          \"but how do you protect my information?\", \n",
    "          \"why do you intergrate with iAmSmart?\", \n",
    "          \"How dose I know that the bank has been recieved my forms?\", \n",
    "          \"How long would it take after I submitted the forms?\", \n",
    "          \"What is the fee schedule?\",\n",
    "         \"Tell me more about your team.\", \n",
    "         \"How can I contact you?\", \n",
    "         \"You are rubbish!\", \n",
    "         \"Thanks Matthew!\", \n",
    "         \"Its fine. see ya.\"]\n",
    "\n",
    "dialog_trial = \"fuck you\""
   ]
  },
  {
   "cell_type": "code",
   "execution_count": 9,
   "id": "c93ccd5f",
   "metadata": {},
   "outputs": [
    {
     "ename": "TypeError",
     "evalue": "query_a_sentence() missing 1 required positional argument: 'Classes_dict'",
     "output_type": "error",
     "traceback": [
      "\u001b[1;31m---------------------------------------------------------------------------\u001b[0m",
      "\u001b[1;31mTypeError\u001b[0m                                 Traceback (most recent call last)",
      "Input \u001b[1;32mIn [9]\u001b[0m, in \u001b[0;36m<cell line: 1>\u001b[1;34m()\u001b[0m\n\u001b[1;32m----> 1\u001b[0m \u001b[43mquery_a_sentence\u001b[49m\u001b[43m(\u001b[49m\u001b[43mdialog_trial\u001b[49m\u001b[43m)\u001b[49m\n",
      "\u001b[1;31mTypeError\u001b[0m: query_a_sentence() missing 1 required positional argument: 'Classes_dict'"
     ]
    }
   ],
   "source": [
    "query_a_sentence(dialog_trial)"
   ]
  },
  {
   "cell_type": "code",
   "execution_count": 13,
   "id": "df12d1e9",
   "metadata": {},
   "outputs": [
    {
     "data": {
      "text/plain": [
       "74"
      ]
     },
     "execution_count": 13,
     "metadata": {},
     "output_type": "execute_result"
    }
   ],
   "source": [
    "import pandas as pd\n",
    "df = pd.read_csv(raw_data_path, encoding = 'unicode_escape')\n",
    "df.Intent.nunique()"
   ]
  },
  {
   "cell_type": "code",
   "execution_count": null,
   "id": "b1ccf4e7",
   "metadata": {},
   "outputs": [],
   "source": [
    "     df = pd.read_csv(raw_data_path, encoding = 'unicode_escape')\n",
    "    df = df.melt(id_vars=[\"Domain\", \"Sub domain\", \"Intent\", \"Answer Format\"]).drop(\"variable\", axis = 1)\n",
    "    Classes_dict_1 = dict(zip(list(df[\"Answer Format\"].unique()), [i for i in range(df[\"Intent\"].nunique())]))\n",
    "    Classes_dict = {value:key for key, value in Classes_dict_1.items()}"
   ]
  }
 ],
 "metadata": {
  "kernelspec": {
   "display_name": "Python 3 (ipykernel)",
   "language": "python",
   "name": "python3"
  },
  "language_info": {
   "codemirror_mode": {
    "name": "ipython",
    "version": 3
   },
   "file_extension": ".py",
   "mimetype": "text/x-python",
   "name": "python",
   "nbconvert_exporter": "python",
   "pygments_lexer": "ipython3",
   "version": "3.9.12"
  }
 },
 "nbformat": 4,
 "nbformat_minor": 5
}
