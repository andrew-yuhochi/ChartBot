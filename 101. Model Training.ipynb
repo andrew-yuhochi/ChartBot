{
 "cells": [
  {
   "cell_type": "markdown",
   "id": "b9145fc3-4dca-4140-83ff-5c0a299741cf",
   "metadata": {},
   "source": [
    "### 0. Check GPU set up"
   ]
  },
  {
   "cell_type": "code",
   "execution_count": 1,
   "id": "ed62e7a3-361b-4bcc-8a28-89a40bf23744",
   "metadata": {},
   "outputs": [
    {
     "data": {
      "text/plain": [
       "[name: \"/device:CPU:0\"\n",
       " device_type: \"CPU\"\n",
       " memory_limit: 268435456\n",
       " locality {\n",
       " }\n",
       " incarnation: 15494064905979831625,\n",
       " name: \"/device:GPU:0\"\n",
       " device_type: \"GPU\"\n",
       " memory_limit: 7805599744\n",
       " locality {\n",
       "   bus_id: 1\n",
       "   links {\n",
       "   }\n",
       " }\n",
       " incarnation: 12102838610243404348\n",
       " physical_device_desc: \"device: 0, name: NVIDIA GeForce RTX 3080, pci bus id: 0000:01:00.0, compute capability: 8.6\"]"
      ]
     },
     "execution_count": 1,
     "metadata": {},
     "output_type": "execute_result"
    }
   ],
   "source": [
    "from tensorflow.python.client import device_lib\n",
    "device_lib.list_local_devices()"
   ]
  },
  {
   "cell_type": "markdown",
   "id": "0fa593cf-d118-4707-9423-0848fd71d23a",
   "metadata": {},
   "source": [
    "### 1. Load Data"
   ]
  },
  {
   "cell_type": "code",
   "execution_count": 2,
   "id": "5daa5ba5-2a2a-49ce-b206-c5013c145aee",
   "metadata": {},
   "outputs": [],
   "source": [
    "%load_ext autoreload\n",
    "%autoreload 2\n",
    "\n",
    "from chartbot_config import *"
   ]
  },
  {
   "cell_type": "code",
   "execution_count": 3,
   "id": "cc0b4fce-57c9-481a-9bbf-c20cd96a7cff",
   "metadata": {},
   "outputs": [
    {
     "name": "stderr",
     "output_type": "stream",
     "text": [
      "D:\\Anaconda3\\envs\\GPU\\lib\\site-packages\\tqdm\\auto.py:22: TqdmWarning: IProgress not found. Please update jupyter and ipywidgets. See https://ipywidgets.readthedocs.io/en/stable/user_install.html\n",
      "  from .autonotebook import tqdm as notebook_tqdm\n"
     ]
    },
    {
     "data": {
      "text/plain": [
       "DatasetDict({\n",
       "    train: Dataset({\n",
       "        features: ['index', 'Domain', 'Sub domain', 'Intent', 'Answer Format', 'value', 'labels'],\n",
       "        num_rows: 9766\n",
       "    })\n",
       "    validation: Dataset({\n",
       "        features: ['index', 'Domain', 'Sub domain', 'Intent', 'Answer Format', 'value', 'labels'],\n",
       "        num_rows: 3256\n",
       "    })\n",
       "    test: Dataset({\n",
       "        features: ['index', 'Domain', 'Sub domain', 'Intent', 'Answer Format', 'value', 'labels'],\n",
       "        num_rows: 3256\n",
       "    })\n",
       "})"
      ]
     },
     "execution_count": 3,
     "metadata": {},
     "output_type": "execute_result"
    }
   ],
   "source": [
    "from datasets import load_from_disk\n",
    "\n",
    "df = load_from_disk(processed_data_path)\n",
    "df"
   ]
  },
  {
   "cell_type": "markdown",
   "id": "8be50a7e-0ec8-4fd9-bd36-bd9a5bb7c848",
   "metadata": {},
   "source": [
    "### 2. DataSet Set up"
   ]
  },
  {
   "cell_type": "code",
   "execution_count": 4,
   "id": "cfaaaf51-a026-4ecd-9ae8-41563dbe8268",
   "metadata": {},
   "outputs": [
    {
     "name": "stderr",
     "output_type": "stream",
     "text": [
      "100%|██████████| 10/10 [00:00<00:00, 25.33ba/s]\n",
      "100%|██████████| 4/4 [00:00<00:00, 30.33ba/s]\n",
      "100%|██████████| 4/4 [00:00<00:00, 20.16ba/s]\n"
     ]
    },
    {
     "name": "stdout",
     "output_type": "stream",
     "text": [
      "======================================\n",
      "Trainset: <PrefetchDataset shapes: ({input_ids: (32, None), token_type_ids: (32, None), attention_mask: (32, None)}, (32, None)), types: ({input_ids: tf.int64, token_type_ids: tf.int64, attention_mask: tf.int64}, tf.int64)>\n"
     ]
    }
   ],
   "source": [
    "from transformers import AutoTokenizer, DataCollatorWithPadding\n",
    "\n",
    "checkpoint = checkpoint\n",
    "\n",
    "tokenizer = AutoTokenizer.from_pretrained(checkpoint)\n",
    "\n",
    "def tokenize_function(examples):\n",
    "    return tokenizer(examples[\"value\"], truncation=True)\n",
    "\n",
    "tokenized_dataset = df.map(tokenize_function, batched=True)\n",
    "\n",
    "data_collator = DataCollatorWithPadding(tokenizer = tokenizer, return_tensors = \"tf\")\n",
    "\n",
    "tf_train_dataset = tokenized_dataset[\"train\"].to_tf_dataset(\n",
    "    columns = [\"attention_mask\", \"input_ids\", \"token_type_ids\"],\n",
    "    label_cols = [\"labels\"],\n",
    "    shuffle = True,\n",
    "    collate_fn = data_collator,\n",
    "    batch_size = batch_size,\n",
    ")\n",
    "\n",
    "tf_validation_dataset = tokenized_dataset[\"validation\"].to_tf_dataset(\n",
    "    columns = [\"attention_mask\", \"input_ids\", \"token_type_ids\"],\n",
    "    label_cols = [\"labels\"],\n",
    "    shuffle = False,\n",
    "    collate_fn = data_collator,\n",
    "    batch_size = batch_size,\n",
    ")\n",
    "\n",
    "print(\"======================================\")\n",
    "print(\"Trainset:\", tf_train_dataset)"
   ]
  },
  {
   "cell_type": "markdown",
   "id": "3952295a-c86b-4694-a960-773c009fd042",
   "metadata": {},
   "source": [
    "### 3. Model Set up"
   ]
  },
  {
   "cell_type": "code",
   "execution_count": 5,
   "id": "145332e1-1ef8-4d74-91ad-c2cfa22d1137",
   "metadata": {},
   "outputs": [
    {
     "name": "stderr",
     "output_type": "stream",
     "text": [
      "All model checkpoint layers were used when initializing TFBertForSequenceClassification.\n",
      "\n",
      "Some layers of TFBertForSequenceClassification were not initialized from the model checkpoint at bert-base-uncased and are newly initialized: ['classifier']\n",
      "You should probably TRAIN this model on a down-stream task to be able to use it for predictions and inference.\n"
     ]
    }
   ],
   "source": [
    "from transformers import TFAutoModelForSequenceClassification\n",
    "\n",
    "num_labels = len(tokenized_dataset['train'][\"labels\"][0])\n",
    "model = TFAutoModelForSequenceClassification.from_pretrained(checkpoint, num_labels=num_labels, problem_type=\"multi_label_classification\")"
   ]
  },
  {
   "cell_type": "code",
   "execution_count": 6,
   "id": "a7705ca8-85c5-4667-a468-6d1320ee1cd2",
   "metadata": {},
   "outputs": [
    {
     "name": "stdout",
     "output_type": "stream",
     "text": [
      "Model: \"tf_bert_for_sequence_classification\"\n",
      "_________________________________________________________________\n",
      "Layer (type)                 Output Shape              Param #   \n",
      "=================================================================\n",
      "bert (TFBertMainLayer)       multiple                  109482240 \n",
      "_________________________________________________________________\n",
      "dropout_37 (Dropout)         multiple                  0         \n",
      "_________________________________________________________________\n",
      "classifier (Dense)           multiple                  56906     \n",
      "=================================================================\n",
      "Total params: 109,539,146\n",
      "Trainable params: 109,539,146\n",
      "Non-trainable params: 0\n",
      "_________________________________________________________________\n"
     ]
    }
   ],
   "source": [
    "model.summary()"
   ]
  },
  {
   "cell_type": "code",
   "execution_count": 7,
   "id": "c135805b-e5da-4333-9a53-d9ce0088515e",
   "metadata": {},
   "outputs": [],
   "source": [
    "from tensorflow.keras.losses import BinaryCrossentropy\n",
    "from tensorflow.keras.optimizers.schedules import PolynomialDecay\n",
    "from tensorflow.keras.optimizers import Adam"
   ]
  },
  {
   "cell_type": "code",
   "execution_count": 8,
   "id": "a6438380-84b1-42d3-b8bf-1149f7a79326",
   "metadata": {},
   "outputs": [],
   "source": [
    "num_train_steps = len(tf_train_dataset) * max_num_epochs\n",
    "\n",
    "lr_scheduler = PolynomialDecay(\n",
    "    initial_learning_rate=5e-5, end_learning_rate=0.0, decay_steps=num_train_steps\n",
    ")\n",
    "\n",
    "opt = Adam(learning_rate=lr_scheduler)\n",
    "loss = BinaryCrossentropy(from_logits=True)\n",
    "\n",
    "model.compile(\n",
    "    optimizer = opt,\n",
    "    loss = loss,\n",
    "    metrics=[\"accuracy\"],\n",
    ")"
   ]
  },
  {
   "cell_type": "markdown",
   "id": "2e21badf-d791-4fda-988f-3f7e6e3670bb",
   "metadata": {},
   "source": [
    "### 4. Model Training"
   ]
  },
  {
   "cell_type": "code",
   "execution_count": 9,
   "id": "506ae623-e892-4883-bea1-40e06f940ef9",
   "metadata": {},
   "outputs": [
    {
     "name": "stdout",
     "output_type": "stream",
     "text": [
      "Epoch 1/10\n",
      "305/305 [==============================] - 41s 102ms/step - loss: 0.1376 - accuracy: 0.0119 - val_loss: 0.0721 - val_accuracy: 0.0150\n",
      "Epoch 2/10\n",
      "305/305 [==============================] - 30s 98ms/step - loss: 0.0719 - accuracy: 0.0130 - val_loss: 0.0715 - val_accuracy: 0.0117\n",
      "Epoch 3/10\n",
      "305/305 [==============================] - 30s 98ms/step - loss: 0.0698 - accuracy: 0.0670 - val_loss: 0.0659 - val_accuracy: 0.2098\n",
      "Epoch 4/10\n",
      "305/305 [==============================] - 30s 98ms/step - loss: 0.0598 - accuracy: 0.5078 - val_loss: 0.0503 - val_accuracy: 0.8768\n",
      "Epoch 5/10\n",
      "305/305 [==============================] - 30s 98ms/step - loss: 0.0427 - accuracy: 0.9424 - val_loss: 0.0337 - val_accuracy: 0.9693\n",
      "Epoch 6/10\n",
      "305/305 [==============================] - 29s 96ms/step - loss: 0.0290 - accuracy: 0.9869 - val_loss: 0.0236 - val_accuracy: 0.9856\n",
      "Epoch 7/10\n",
      "305/305 [==============================] - 30s 99ms/step - loss: 0.0213 - accuracy: 0.9927 - val_loss: 0.0182 - val_accuracy: 0.9840\n",
      "Epoch 8/10\n",
      "305/305 [==============================] - 30s 99ms/step - loss: 0.0170 - accuracy: 0.9949 - val_loss: 0.0152 - val_accuracy: 0.9883\n",
      "Epoch 9/10\n",
      "305/305 [==============================] - 30s 99ms/step - loss: 0.0147 - accuracy: 0.9950 - val_loss: 0.0137 - val_accuracy: 0.9877\n",
      "Epoch 10/10\n",
      "305/305 [==============================] - 30s 98ms/step - loss: 0.0136 - accuracy: 0.9961 - val_loss: 0.0132 - val_accuracy: 0.9877\n"
     ]
    }
   ],
   "source": [
    "history = model.fit(\n",
    "    tf_train_dataset,\n",
    "    validation_data=tf_validation_dataset,\n",
    "    epochs = max_num_epochs\n",
    ")"
   ]
  },
  {
   "cell_type": "markdown",
   "id": "f01d8ba1-23fb-4ae9-966b-aad12f5060a8",
   "metadata": {},
   "source": [
    "### 5. Model Evaluation "
   ]
  },
  {
   "cell_type": "code",
   "execution_count": 10,
   "id": "6748dc8a-da1c-4071-94d7-86602acb8e4c",
   "metadata": {},
   "outputs": [
    {
     "data": {
      "image/png": "[encoded data removed]",
      "text/plain": [
       "<Figure size 432x288 with 1 Axes>"
      ]
     },
     "metadata": {
      "needs_background": "light"
     },
     "output_type": "display_data"
    }
   ],
   "source": [
    "from matplotlib import pyplot as plt\n",
    "plt.plot(history.history['accuracy'])\n",
    "plt.plot(history.history['val_accuracy'])\n",
    "plt.title('model accuracy (Overall accuracy*)')\n",
    "plt.ylabel('Overall accuracy')\n",
    "plt.xlabel('epoch')\n",
    "plt.legend(['train', 'val'], loc='lower right')\n",
    "plt.show()"
   ]
  },
  {
   "cell_type": "code",
   "execution_count": 11,
   "id": "8e19b9cd-fc7e-4de1-8106-e46d91fdba99",
   "metadata": {},
   "outputs": [
    {
     "data": {
      "image/png": "[encoded data removed]",
      "text/plain": [
       "<Figure size 432x288 with 1 Axes>"
      ]
     },
     "metadata": {
      "needs_background": "light"
     },
     "output_type": "display_data"
    }
   ],
   "source": [
    "from matplotlib import pyplot as plt\n",
    "plt.plot(history.history['loss'])\n",
    "plt.plot(history.history['val_loss'])\n",
    "plt.title('model loss: Mean Binary Crossentropy (Overall accuracy*)')\n",
    "plt.ylabel('Mean Binary Crossentropy')\n",
    "plt.xlabel('epoch')\n",
    "plt.legend(['train', 'val'], loc='upper right')\n",
    "plt.show()"
   ]
  },
  {
   "cell_type": "code",
   "execution_count": 12,
   "id": "26a26aa3-9703-4bfe-a229-27ebc646291e",
   "metadata": {},
   "outputs": [],
   "source": [
    "model.save_weights(model_path)"
   ]
  },
  {
   "cell_type": "code",
   "execution_count": null,
   "id": "20236416-a56c-4a47-928e-ef4cef3b8dc5",
   "metadata": {},
   "outputs": [],
   "source": []
  }
 ],
 "metadata": {
  "kernelspec": {
   "display_name": "Python 3 (ipykernel)",
   "language": "python",
   "name": "python3"
  },
  "language_info": {
   "codemirror_mode": {
    "name": "ipython",
    "version": 3
   },
   "file_extension": ".py",
   "mimetype": "text/x-python",
   "name": "python",
   "nbconvert_exporter": "python",
   "pygments_lexer": "ipython3",
   "version": "3.9.12"
  }
 },
 "nbformat": 4,
 "nbformat_minor": 5
}
