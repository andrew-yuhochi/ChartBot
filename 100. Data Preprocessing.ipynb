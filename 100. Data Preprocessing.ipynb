{
 "cells": [
  {
   "cell_type": "code",
   "execution_count": 1,
   "id": "d6b05d49-893a-4f63-8c62-f97ec68f7472",
   "metadata": {},
   "outputs": [],
   "source": [
    "%load_ext autoreload\n",
    "%autoreload 2\n",
    "\n",
    "from chartbot_config import *"
   ]
  },
  {
   "cell_type": "code",
   "execution_count": 6,
   "id": "1085660f",
   "metadata": {},
   "outputs": [
    {
     "data": {
      "text/html": [
       "<div>\n",
       "<style scoped>\n",
       "    .dataframe tbody tr th:only-of-type {\n",
       "        vertical-align: middle;\n",
       "    }\n",
       "\n",
       "    .dataframe tbody tr th {\n",
       "        vertical-align: top;\n",
       "    }\n",
       "\n",
       "    .dataframe thead th {\n",
       "        text-align: right;\n",
       "    }\n",
       "</style>\n",
       "<table border=\"1\" class=\"dataframe\">\n",
       "  <thead>\n",
       "    <tr style=\"text-align: right;\">\n",
       "      <th></th>\n",
       "      <th>index</th>\n",
       "      <th>Domain</th>\n",
       "      <th>Sub domain</th>\n",
       "      <th>Intent</th>\n",
       "      <th>Answer Format</th>\n",
       "      <th>value</th>\n",
       "      <th>labels</th>\n",
       "    </tr>\n",
       "  </thead>\n",
       "  <tbody>\n",
       "    <tr>\n",
       "      <th>0</th>\n",
       "      <td>0</td>\n",
       "      <td>About Techology</td>\n",
       "      <td>AI Techology</td>\n",
       "      <td>AI_summary</td>\n",
       "      <td>We utilise AI technology in serveal ways to im...</td>\n",
       "      <td>Why Did You Use AI In Your Service?</td>\n",
       "      <td>[1, 0, 0, 0, 0, 0, 0, 0, 0, 0, 0, 0, 0, 0, 0, ...</td>\n",
       "    </tr>\n",
       "    <tr>\n",
       "      <th>1</th>\n",
       "      <td>1</td>\n",
       "      <td>About Techology</td>\n",
       "      <td>AI Techology</td>\n",
       "      <td>AI_component</td>\n",
       "      <td>Currently, we introduced the \"Form Recogniser\"...</td>\n",
       "      <td>What is you doing with AI technology?</td>\n",
       "      <td>[0, 1, 0, 0, 0, 0, 0, 0, 0, 0, 0, 0, 0, 0, 0, ...</td>\n",
       "    </tr>\n",
       "    <tr>\n",
       "      <th>2</th>\n",
       "      <td>2</td>\n",
       "      <td>About Techology</td>\n",
       "      <td>iAM SMART Integration</td>\n",
       "      <td>Without_iamsmart</td>\n",
       "      <td>You can still use our service without using iA...</td>\n",
       "      <td>I do not want to register an iAMSTART account....</td>\n",
       "      <td>[0, 0, 1, 0, 0, 0, 0, 0, 0, 0, 0, 0, 0, 0, 0, ...</td>\n",
       "    </tr>\n",
       "    <tr>\n",
       "      <th>3</th>\n",
       "      <td>3</td>\n",
       "      <td>About Techology</td>\n",
       "      <td>Data Security &amp; Privacy</td>\n",
       "      <td>data_removal</td>\n",
       "      <td>Go to XXX pages, click on XXX button. Please n...</td>\n",
       "      <td>Where can I find a Delete button for my data?</td>\n",
       "      <td>[0, 0, 0, 1, 0, 0, 0, 0, 0, 0, 0, 0, 0, 0, 0, ...</td>\n",
       "    </tr>\n",
       "    <tr>\n",
       "      <th>4</th>\n",
       "      <td>4</td>\n",
       "      <td>About Business Component</td>\n",
       "      <td>Account</td>\n",
       "      <td>Delete_account</td>\n",
       "      <td>Go to the XXX pages, click XXX button. Your ac...</td>\n",
       "      <td>Can You Removing My Account?</td>\n",
       "      <td>[0, 0, 0, 0, 1, 0, 0, 0, 0, 0, 0, 0, 0, 0, 0, ...</td>\n",
       "    </tr>\n",
       "  </tbody>\n",
       "</table>\n",
       "</div>"
      ],
      "text/plain": [
       "   index                    Domain               Sub domain            Intent  \\\n",
       "0      0           About Techology             AI Techology        AI_summary   \n",
       "1      1           About Techology             AI Techology      AI_component   \n",
       "2      2           About Techology    iAM SMART Integration  Without_iamsmart   \n",
       "3      3           About Techology  Data Security & Privacy      data_removal   \n",
       "4      4  About Business Component                  Account    Delete_account   \n",
       "\n",
       "                                       Answer Format  \\\n",
       "0  We utilise AI technology in serveal ways to im...   \n",
       "1  Currently, we introduced the \"Form Recogniser\"...   \n",
       "2  You can still use our service without using iA...   \n",
       "3  Go to XXX pages, click on XXX button. Please n...   \n",
       "4  Go to the XXX pages, click XXX button. Your ac...   \n",
       "\n",
       "                                               value  \\\n",
       "0                Why Did You Use AI In Your Service?   \n",
       "1              What is you doing with AI technology?   \n",
       "2  I do not want to register an iAMSTART account....   \n",
       "3      Where can I find a Delete button for my data?   \n",
       "4                       Can You Removing My Account?   \n",
       "\n",
       "                                              labels  \n",
       "0  [1, 0, 0, 0, 0, 0, 0, 0, 0, 0, 0, 0, 0, 0, 0, ...  \n",
       "1  [0, 1, 0, 0, 0, 0, 0, 0, 0, 0, 0, 0, 0, 0, 0, ...  \n",
       "2  [0, 0, 1, 0, 0, 0, 0, 0, 0, 0, 0, 0, 0, 0, 0, ...  \n",
       "3  [0, 0, 0, 1, 0, 0, 0, 0, 0, 0, 0, 0, 0, 0, 0, ...  \n",
       "4  [0, 0, 0, 0, 1, 0, 0, 0, 0, 0, 0, 0, 0, 0, 0, ...  "
      ]
     },
     "execution_count": 6,
     "metadata": {},
     "output_type": "execute_result"
    }
   ],
   "source": [
    "import pandas as pd\n",
    "\n",
    "df = pd.read_csv(raw_data_path, encoding = 'unicode_escape')\n",
    "df = df.melt(id_vars=[\"Domain\", \"Sub domain\", \"Intent\", \"Answer Format\"]).drop(\"variable\", axis = 1)\n",
    "\n",
    "Classes_dict = dict(zip(list(df[\"Intent\"].unique()), [i for i in range(df[\"Intent\"].nunique())]))\n",
    "df[\"labels\"] = df.Intent.apply(lambda x: Classes_dict.get(x))\n",
    "df[\"labels\"] = pd.get_dummies(df.labels).values.tolist()\n",
    "df = df.dropna().reset_index().copy()\n",
    "df.head()"
   ]
  },
  {
   "cell_type": "code",
   "execution_count": 7,
   "id": "eb951474-701a-40a6-8b5d-ef92c2dabba8",
   "metadata": {},
   "outputs": [
    {
     "name": "stderr",
     "output_type": "stream",
     "text": [
      "D:\\Anaconda3\\envs\\GPU\\lib\\site-packages\\tqdm\\auto.py:22: TqdmWarning: IProgress not found. Please update jupyter and ipywidgets. See https://ipywidgets.readthedocs.io/en/stable/user_install.html\n",
      "  from .autonotebook import tqdm as notebook_tqdm\n"
     ]
    },
    {
     "data": {
      "text/plain": [
       "DatasetDict({\n",
       "    train: Dataset({\n",
       "        features: ['index', 'Domain', 'Sub domain', 'Intent', 'Answer Format', 'value', 'labels'],\n",
       "        num_rows: 9766\n",
       "    })\n",
       "    validation: Dataset({\n",
       "        features: ['index', 'Domain', 'Sub domain', 'Intent', 'Answer Format', 'value', 'labels'],\n",
       "        num_rows: 3256\n",
       "    })\n",
       "    test: Dataset({\n",
       "        features: ['index', 'Domain', 'Sub domain', 'Intent', 'Answer Format', 'value', 'labels'],\n",
       "        num_rows: 3256\n",
       "    })\n",
       "})"
      ]
     },
     "execution_count": 7,
     "metadata": {},
     "output_type": "execute_result"
    }
   ],
   "source": [
    "from datasets import Dataset\n",
    "\n",
    "df = Dataset.from_pandas(df)\n",
    "df = df.train_test_split(train_size = 1 - test_size , seed=seed)\n",
    "df_splitted = df[\"train\"].train_test_split(train_size= (1 - validation_size - test_size)/(1 - test_size)  , seed=seed)\n",
    "df_splitted[\"validation\"] = df_splitted.pop(\"test\")\n",
    "df_splitted[\"test\"] = df[\"test\"]\n",
    "df_splitted"
   ]
  },
  {
   "cell_type": "code",
   "execution_count": 10,
   "id": "f8095d19-ac7c-4633-b236-617e0cdfb36f",
   "metadata": {},
   "outputs": [
    {
     "name": "stderr",
     "output_type": "stream",
     "text": [
      "Flattening the indices: 100%|██████████| 10/10 [00:00<00:00, 32.92ba/s]\n",
      "Flattening the indices: 100%|██████████| 4/4 [00:00<00:00, 38.84ba/s]\n",
      "Flattening the indices: 100%|██████████| 4/4 [00:00<00:00, 38.83ba/s]\n"
     ]
    }
   ],
   "source": [
    "df_splitted.save_to_disk(processed_data_path)"
   ]
  },
  {
   "cell_type": "code",
   "execution_count": null,
   "id": "4a1f89f8",
   "metadata": {},
   "outputs": [],
   "source": []
  }
 ],
 "metadata": {
  "kernelspec": {
   "display_name": "Python 3 (ipykernel)",
   "language": "python",
   "name": "python3"
  },
  "language_info": {
   "codemirror_mode": {
    "name": "ipython",
    "version": 3
   },
   "file_extension": ".py",
   "mimetype": "text/x-python",
   "name": "python",
   "nbconvert_exporter": "python",
   "pygments_lexer": "ipython3",
   "version": "3.9.12"
  }
 },
 "nbformat": 4,
 "nbformat_minor": 5
}
